{
  "cells": [
    {
      "metadata": {
        "trusted": true
      },
      "cell_type": "code",
      "source": "string='September 10'\nprint(string)",
      "execution_count": 3,
      "outputs": [
        {
          "output_type": "stream",
          "text": "September 10\n",
          "name": "stdout"
        }
      ]
    },
    {
      "metadata": {
        "trusted": true
      },
      "cell_type": "code",
      "source": "string='December 16'\nprint(string)",
      "execution_count": 4,
      "outputs": [
        {
          "output_type": "stream",
          "text": "December 16\n",
          "name": "stdout"
        }
      ]
    },
    {
      "metadata": {
        "trusted": true
      },
      "cell_type": "code",
      "source": "string='Erico Corbett'\nprint (string)",
      "execution_count": 5,
      "outputs": [
        {
          "output_type": "stream",
          "text": "Erico Corbett\n",
          "name": "stdout"
        }
      ]
    },
    {
      "metadata": {
        "trusted": true
      },
      "cell_type": "code",
      "source": "string='Erico is the goat'\nprint(string)",
      "execution_count": 6,
      "outputs": [
        {
          "output_type": "stream",
          "text": "Erico is the goat\n",
          "name": "stdout"
        }
      ]
    },
    {
      "metadata": {
        "trusted": true
      },
      "cell_type": "code",
      "source": "list=['chicken','pasta','pizza','lasagna','tacos']\nprint(list)",
      "execution_count": 7,
      "outputs": [
        {
          "output_type": "stream",
          "text": "['chicken', 'pasta', 'pizza', 'lasagna', 'tacos']\n",
          "name": "stdout"
        }
      ]
    }
  ],
  "metadata": {
    "kernelspec": {
      "name": "python36",
      "display_name": "Python 3.6",
      "language": "python"
    },
    "language_info": {
      "mimetype": "text/x-python",
      "nbconvert_exporter": "python",
      "name": "python",
      "pygments_lexer": "ipython3",
      "version": "3.6.6",
      "file_extension": ".py",
      "codemirror_mode": {
        "version": 3,
        "name": "ipython"
      }
    }
  },
  "nbformat": 4,
  "nbformat_minor": 2
}